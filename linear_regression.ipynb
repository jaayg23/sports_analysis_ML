{
 "cells": [
  {
   "cell_type": "code",
   "execution_count": 1,
   "id": "bfd8faf0",
   "metadata": {},
   "outputs": [],
   "source": [
    "import pandas as pd \n",
    "from sklearn.model_selection import train_test_split"
   ]
  },
  {
   "cell_type": "code",
   "execution_count": 2,
   "id": "960a49ff",
   "metadata": {},
   "outputs": [],
   "source": [
    "df_partidos = pd.read_csv('club_data.csv')\n",
    "df_partidos['diferencia_goles'] = df_partidos['goles_local'] - df_partidos['goles_visitante']\n",
    "\n",
    "X = df_partidos[['posesion_local (%)', 'tiros_arco_local']]\n",
    "y = df_partidos['diferencia_goles']\n",
    "\n",
    "X_train, X_test, y_train, y_test = train_test_split(X, y, test_size=0.2, random_state=42)"
   ]
  },
  {
   "cell_type": "code",
   "execution_count": 3,
   "id": "918a7ee1",
   "metadata": {},
   "outputs": [
    {
     "name": "stdout",
     "output_type": "stream",
     "text": [
      "Model trained successfully!\n"
     ]
    }
   ],
   "source": [
    "from sklearn.linear_model import LinearRegression\n",
    "\n",
    "modelor_rl = LinearRegression()\n",
    "modelor_rl.fit(X_train, y_train)\n",
    "\n",
    "print('Model trained successfully!')"
   ]
  },
  {
   "cell_type": "code",
   "execution_count": 4,
   "id": "5d86a96f",
   "metadata": {},
   "outputs": [
    {
     "name": "stdout",
     "output_type": "stream",
     "text": [
      "Intercept: -2.5257192572329767\n",
      "Coefficients: [ 0.05596278 -0.05125811]\n",
      "Coefficient for posesion_local (%): 0.055962784392897424\n",
      "Coefficient for tiros_arco_local: -0.051258111603808595\n"
     ]
    }
   ],
   "source": [
    "print('Intercept:', modelor_rl.intercept_)\n",
    "print('Coefficients:', modelor_rl.coef_)\n",
    "\n",
    "for idx, col_name in enumerate(X.columns):\n",
    "    print(f'Coefficient for {col_name}: {modelor_rl.coef_[idx]}')"
   ]
  },
  {
   "cell_type": "code",
   "execution_count": 5,
   "id": "fb4d5ec4",
   "metadata": {},
   "outputs": [
    {
     "data": {
      "text/html": [
       "<div>\n",
       "<style scoped>\n",
       "    .dataframe tbody tr th:only-of-type {\n",
       "        vertical-align: middle;\n",
       "    }\n",
       "\n",
       "    .dataframe tbody tr th {\n",
       "        vertical-align: top;\n",
       "    }\n",
       "\n",
       "    .dataframe thead th {\n",
       "        text-align: right;\n",
       "    }\n",
       "</style>\n",
       "<table border=\"1\" class=\"dataframe\">\n",
       "  <thead>\n",
       "    <tr style=\"text-align: right;\">\n",
       "      <th></th>\n",
       "      <th>posesion_local (%)</th>\n",
       "      <th>tiros_arco_local</th>\n",
       "      <th>diferencia_goles_real</th>\n",
       "      <th>diferencia_goles_pred</th>\n",
       "    </tr>\n",
       "  </thead>\n",
       "  <tbody>\n",
       "    <tr>\n",
       "      <th>83</th>\n",
       "      <td>47</td>\n",
       "      <td>3</td>\n",
       "      <td>3</td>\n",
       "      <td>-0.05</td>\n",
       "    </tr>\n",
       "    <tr>\n",
       "      <th>53</th>\n",
       "      <td>60</td>\n",
       "      <td>3</td>\n",
       "      <td>3</td>\n",
       "      <td>0.68</td>\n",
       "    </tr>\n",
       "    <tr>\n",
       "      <th>70</th>\n",
       "      <td>50</td>\n",
       "      <td>5</td>\n",
       "      <td>0</td>\n",
       "      <td>0.02</td>\n",
       "    </tr>\n",
       "    <tr>\n",
       "      <th>45</th>\n",
       "      <td>57</td>\n",
       "      <td>7</td>\n",
       "      <td>3</td>\n",
       "      <td>0.31</td>\n",
       "    </tr>\n",
       "    <tr>\n",
       "      <th>44</th>\n",
       "      <td>45</td>\n",
       "      <td>5</td>\n",
       "      <td>5</td>\n",
       "      <td>-0.26</td>\n",
       "    </tr>\n",
       "    <tr>\n",
       "      <th>39</th>\n",
       "      <td>60</td>\n",
       "      <td>7</td>\n",
       "      <td>3</td>\n",
       "      <td>0.47</td>\n",
       "    </tr>\n",
       "    <tr>\n",
       "      <th>22</th>\n",
       "      <td>45</td>\n",
       "      <td>11</td>\n",
       "      <td>0</td>\n",
       "      <td>-0.57</td>\n",
       "    </tr>\n",
       "    <tr>\n",
       "      <th>80</th>\n",
       "      <td>49</td>\n",
       "      <td>5</td>\n",
       "      <td>1</td>\n",
       "      <td>-0.04</td>\n",
       "    </tr>\n",
       "    <tr>\n",
       "      <th>10</th>\n",
       "      <td>48</td>\n",
       "      <td>5</td>\n",
       "      <td>-2</td>\n",
       "      <td>-0.10</td>\n",
       "    </tr>\n",
       "    <tr>\n",
       "      <th>0</th>\n",
       "      <td>54</td>\n",
       "      <td>12</td>\n",
       "      <td>2</td>\n",
       "      <td>-0.12</td>\n",
       "    </tr>\n",
       "  </tbody>\n",
       "</table>\n",
       "</div>"
      ],
      "text/plain": [
       "    posesion_local (%)  tiros_arco_local  diferencia_goles_real  \\\n",
       "83                  47                 3                      3   \n",
       "53                  60                 3                      3   \n",
       "70                  50                 5                      0   \n",
       "45                  57                 7                      3   \n",
       "44                  45                 5                      5   \n",
       "39                  60                 7                      3   \n",
       "22                  45                11                      0   \n",
       "80                  49                 5                      1   \n",
       "10                  48                 5                     -2   \n",
       "0                   54                12                      2   \n",
       "\n",
       "    diferencia_goles_pred  \n",
       "83                  -0.05  \n",
       "53                   0.68  \n",
       "70                   0.02  \n",
       "45                   0.31  \n",
       "44                  -0.26  \n",
       "39                   0.47  \n",
       "22                  -0.57  \n",
       "80                  -0.04  \n",
       "10                  -0.10  \n",
       "0                   -0.12  "
      ]
     },
     "execution_count": 5,
     "metadata": {},
     "output_type": "execute_result"
    }
   ],
   "source": [
    "y_pred = modelor_rl.predict(X_test)\n",
    "\n",
    "df_results = X_test.copy()\n",
    "df_results['diferencia_goles_real'] = y_test\n",
    "df_results['diferencia_goles_pred'] = y_pred.round(2)\n",
    "\n",
    "df_results.head(10)"
   ]
  },
  {
   "cell_type": "code",
   "execution_count": 9,
   "id": "85e88f5a",
   "metadata": {},
   "outputs": [
    {
     "data": {
      "image/png": "[encoded data removed]",
      "text/plain": [
       "<Figure size 1000x600 with 1 Axes>"
      ]
     },
     "metadata": {},
     "output_type": "display_data"
    }
   ],
   "source": [
    "import matplotlib.pyplot as plt\n",
    "import seaborn as sns\n",
    "\n",
    "plt.figure(figsize=(10, 6))\n",
    "sns.scatterplot(x='diferencia_goles_real', y='diferencia_goles_pred', data=df_results)\n",
    "plt.title('Real vs Predicted Goal Difference')\n",
    "plt.xlabel('Real Goal Difference')\n",
    "plt.ylabel('Predicted Goal Difference')\n",
    "plt.axline((0, 0), slope=1, color='red', linestyle='--')\n",
    "plt.show()"
   ]
  },
  {
   "cell_type": "code",
   "execution_count": 10,
   "id": "454b1b4f",
   "metadata": {},
   "outputs": [
    {
     "data": {
      "application/vnd.jupyter.widget-view+json": {
       "model_id": "15eed0d2f3ef46a09e1bc8dfd1fd064b",
       "version_major": 2,
       "version_minor": 0
      },
      "text/plain": [
       "interactive(children=(FloatSlider(value=30.0, description='Posesion (%)', max=70.0, min=30.0, step=1.0), Float…"
      ]
     },
     "metadata": {},
     "output_type": "display_data"
    },
    {
     "data": {
      "text/plain": [
       "<function __main__.predict_goal_difference(posesion, tiros)>"
      ]
     },
     "execution_count": 10,
     "metadata": {},
     "output_type": "execute_result"
    }
   ],
   "source": [
    "import ipywidgets as widgets\n",
    "\n",
    "posesion_input = widgets.FloatSlider(min=30, max=70, step=1, description='Posesion (%)')\n",
    "tiros_input = widgets.FloatSlider(min=1, max=15, step=1, description='Tiros al Arco')\n",
    "\n",
    "def predict_goal_difference(posesion, tiros):\n",
    "    input_data = pd.DataFrame([[posesion, tiros]], columns=X.columns)\n",
    "    prediction = modelor_rl.predict(input_data)[0]\n",
    "    print(f'Predicted Goal Difference: {prediction:.2f}')\n",
    "\n",
    "widgets.interact(predict_goal_difference, posesion=posesion_input, tiros=tiros_input)"
   ]
  }
 ],
 "metadata": {
  "kernelspec": {
   "display_name": "base",
   "language": "python",
   "name": "python3"
  },
  "language_info": {
   "codemirror_mode": {
    "name": "ipython",
    "version": 3
   },
   "file_extension": ".py",
   "mimetype": "text/x-python",
   "name": "python",
   "nbconvert_exporter": "python",
   "pygments_lexer": "ipython3",
   "version": "3.10.18"
  }
 },
 "nbformat": 4,
 "nbformat_minor": 5
}
