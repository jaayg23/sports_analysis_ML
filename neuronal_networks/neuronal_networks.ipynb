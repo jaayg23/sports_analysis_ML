{
 "cells": [
  {
   "cell_type": "code",
   "execution_count": 1,
   "id": "755c37d0",
   "metadata": {},
   "outputs": [],
   "source": [
    "import torch\n",
    "import torch.nn as nn\n",
    "import torch.optim as optim\n",
    "import numpy as np"
   ]
  },
  {
   "cell_type": "code",
   "execution_count": 2,
   "id": "f1ad6395",
   "metadata": {},
   "outputs": [],
   "source": [
    "X_np = np.random.rand(100, 4).astype(np.float32)\n",
    "y_np = np.random.randint(0, 2, size=(100,)).astype(np.int64)\n",
    "\n",
    "X = torch.from_numpy(X_np)\n",
    "y = torch.from_numpy(y_np)"
   ]
  },
  {
   "cell_type": "code",
   "execution_count": 3,
   "id": "8b7b8a06",
   "metadata": {},
   "outputs": [],
   "source": [
    "class SimpleNN(nn.Module):\n",
    "    def __init__(self, n_entries, n_hidden, n_outputs):\n",
    "        super().__init__()\n",
    "        self.hidden = nn.Linear(n_entries, n_hidden)\n",
    "        self.output = nn.Linear(n_hidden, n_outputs)\n",
    "        self.relu = nn.ReLU()\n",
    "        self.sigmoid = nn.Sigmoid()\n",
    "\n",
    "    def forward(self, x):\n",
    "        x = self.hidden(x)\n",
    "        x = self.relu(x)\n",
    "        x = self.output(x)\n",
    "        x = self.sigmoid(x).squeeze(1)\n",
    "        return x\n",
    "    \n",
    "modelo = SimpleNN(n_entries=4, n_hidden=8, n_outputs=1)"
   ]
  },
  {
   "cell_type": "code",
   "execution_count": 4,
   "id": "55698aea",
   "metadata": {},
   "outputs": [],
   "source": [
    "criterion = nn.BCELoss()\n",
    "\n",
    "optimizer = optim.Adam(modelo.parameters(), lr=0.001)"
   ]
  },
  {
   "cell_type": "code",
   "execution_count": 5,
   "id": "cbd96a6d",
   "metadata": {},
   "outputs": [
    {
     "name": "stdout",
     "output_type": "stream",
     "text": [
      "Epoch 1/10, Loss: 0.6600\n",
      "Epoch 2/10, Loss: 0.6355\n",
      "Epoch 3/10, Loss: 0.6454\n",
      "Epoch 4/10, Loss: 0.6800\n",
      "Epoch 5/10, Loss: 0.6799\n",
      "Epoch 6/10, Loss: 0.6289\n",
      "Epoch 7/10, Loss: 0.6817\n",
      "Epoch 8/10, Loss: 0.6699\n",
      "Epoch 9/10, Loss: 0.6589\n",
      "Epoch 10/10, Loss: 0.6913\n"
     ]
    }
   ],
   "source": [
    "n_epochs = 10\n",
    "batch_size = 10\n",
    "dataset = torch.utils.data.TensorDataset(X, y)\n",
    "loader = torch.utils.data.DataLoader(dataset, batch_size=batch_size, shuffle=True)\n",
    "\n",
    "for epoch in range(n_epochs):\n",
    "    for batch_X, batch_y in loader:\n",
    "        y_pred = modelo(batch_X)\n",
    "        loss = criterion(y_pred, batch_y.float())\n",
    "        optimizer.zero_grad()\n",
    "        loss.backward()\n",
    "        optimizer.step()\n",
    "\n",
    "    print(f'Epoch {epoch+1}/{n_epochs}, Loss: {loss.item():.4f}')"
   ]
  },
  {
   "cell_type": "code",
   "execution_count": 7,
   "id": "6bfaf8f7",
   "metadata": {},
   "outputs": [
    {
     "name": "stdout",
     "output_type": "stream",
     "text": [
      "Accuracy: 59.00\n"
     ]
    }
   ],
   "source": [
    "with torch.no_grad():\n",
    "    y_prob = modelo(X)\n",
    "    y_pred = (y_prob > 0.5).int()\n",
    "    accuracy = (y_pred == y).float().mean()\n",
    "    print(f'Accuracy: {accuracy*100:.2f}')"
   ]
  },
  {
   "cell_type": "code",
   "execution_count": 8,
   "id": "219429e3",
   "metadata": {},
   "outputs": [
    {
     "name": "stdout",
     "output_type": "stream",
     "text": [
      "SimpleNN(\n",
      "  (hidden): Linear(in_features=4, out_features=8, bias=True)\n",
      "  (output): Linear(in_features=8, out_features=1, bias=True)\n",
      "  (relu): ReLU()\n",
      "  (sigmoid): Sigmoid()\n",
      ")\n"
     ]
    }
   ],
   "source": [
    "print(modelo)"
   ]
  },
  {
   "cell_type": "code",
   "execution_count": 9,
   "id": "29e6b574",
   "metadata": {},
   "outputs": [
    {
     "data": {
      "application/vnd.jupyter.widget-view+json": {
       "model_id": "2dc480f2a5f546f59abe08ce277977b5",
       "version_major": 2,
       "version_minor": 0
      },
      "text/plain": [
       "interactive(children=(IntSlider(value=1, description='Capas ocultas', max=5, min=1), Output()), _dom_classes=(…"
      ]
     },
     "execution_count": 9,
     "metadata": {},
     "output_type": "execute_result"
    }
   ],
   "source": [
    "import ipywidgets as widgets\n",
    "\n",
    "capas_widget = widgets.IntSlider(min=1, max=5, description='Capas ocultas')\n",
    "\n",
    "def try_model(cap):\n",
    "    class RedDyn(nn.Module):\n",
    "        def __init__(self, n_entradas, n_ocultas, n_capas):\n",
    "            super().__init__()\n",
    "            self.layers = nn.ModuleList()\n",
    "            self.layers.append(nn.Linear(n_entradas, n_ocultas))\n",
    "            for _ in range(n_capas-1):\n",
    "                self.layers.append(nn.Linear(n_ocultas, n_ocultas))\n",
    "            self.out = nn.Linear(n_ocultas, 1)\n",
    "            self.relu = nn.ReLU()\n",
    "            self.sig = nn.Sigmoid()\n",
    "        def forward(self, x):\n",
    "            for layer in self.layers:\n",
    "                x = self.relu(layer(x))\n",
    "            x = self.sig(self.out(x)).squeeze(1)\n",
    "            return x\n",
    "\n",
    "    model = RedDyn(4, 4, cap)  # 4 características, 4 neuronas por capa\n",
    "    crit = nn.BCELoss()\n",
    "    opt = optim.Adam(model.parameters(), lr=0.001)\n",
    "\n",
    "    # Entrenamiento rápido (3 épocas)\n",
    "    for _ in range(3):\n",
    "        y_p = model(X)\n",
    "        l = crit(y_p, y.float())\n",
    "        opt.zero_grad(); l.backward(); opt.step()\n",
    "\n",
    "    # Evaluación\n",
    "    with torch.no_grad():\n",
    "        y_p = model(X)\n",
    "        preds = (y_p>0.5).int()\n",
    "        acc = (preds==y).float().mean()\n",
    "    print(f\"Precisión con {cap} capas: {acc*100:.2f}%\")\n",
    "\n",
    "widgets.interactive(try_model, cap=capas_widget) "
   ]
  }
 ],
 "metadata": {
  "kernelspec": {
   "display_name": "base",
   "language": "python",
   "name": "python3"
  },
  "language_info": {
   "codemirror_mode": {
    "name": "ipython",
    "version": 3
   },
   "file_extension": ".py",
   "mimetype": "text/x-python",
   "name": "python",
   "nbconvert_exporter": "python",
   "pygments_lexer": "ipython3",
   "version": "3.10.18"
  }
 },
 "nbformat": 4,
 "nbformat_minor": 5
}
