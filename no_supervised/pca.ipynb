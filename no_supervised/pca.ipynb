{
 "cells": [
  {
   "cell_type": "code",
   "execution_count": 1,
   "id": "ba3d0a44",
   "metadata": {},
   "outputs": [],
   "source": [
    "import pandas as pd"
   ]
  },
  {
   "cell_type": "code",
   "execution_count": null,
   "id": "15139994",
   "metadata": {},
   "outputs": [
    {
     "data": {
      "text/html": [
       "<div>\n",
       "<style scoped>\n",
       "    .dataframe tbody tr th:only-of-type {\n",
       "        vertical-align: middle;\n",
       "    }\n",
       "\n",
       "    .dataframe tbody tr th {\n",
       "        vertical-align: top;\n",
       "    }\n",
       "\n",
       "    .dataframe thead th {\n",
       "        text-align: right;\n",
       "    }\n",
       "</style>\n",
       "<table border=\"1\" class=\"dataframe\">\n",
       "  <thead>\n",
       "    <tr style=\"text-align: right;\">\n",
       "      <th></th>\n",
       "      <th>jugador_id</th>\n",
       "      <th>nombre</th>\n",
       "      <th>posición</th>\n",
       "      <th>edad</th>\n",
       "      <th>partidos_jugados</th>\n",
       "      <th>goles</th>\n",
       "      <th>asistencias</th>\n",
       "      <th>pases_completados (%)</th>\n",
       "      <th>tiros_al_arco</th>\n",
       "      <th>precisión_tiros (%)</th>\n",
       "      <th>minutos_jugados</th>\n",
       "    </tr>\n",
       "  </thead>\n",
       "  <tbody>\n",
       "    <tr>\n",
       "      <th>0</th>\n",
       "      <td>1</td>\n",
       "      <td>Tara Alvarez</td>\n",
       "      <td>Portero</td>\n",
       "      <td>18</td>\n",
       "      <td>25</td>\n",
       "      <td>2</td>\n",
       "      <td>5</td>\n",
       "      <td>89.0</td>\n",
       "      <td>8</td>\n",
       "      <td>78.2</td>\n",
       "      <td>2125</td>\n",
       "    </tr>\n",
       "    <tr>\n",
       "      <th>1</th>\n",
       "      <td>2</td>\n",
       "      <td>Carol Mcclain</td>\n",
       "      <td>Mediocampista</td>\n",
       "      <td>32</td>\n",
       "      <td>12</td>\n",
       "      <td>2</td>\n",
       "      <td>8</td>\n",
       "      <td>77.5</td>\n",
       "      <td>49</td>\n",
       "      <td>68.5</td>\n",
       "      <td>1032</td>\n",
       "    </tr>\n",
       "    <tr>\n",
       "      <th>2</th>\n",
       "      <td>3</td>\n",
       "      <td>Robert Martin</td>\n",
       "      <td>Defensa</td>\n",
       "      <td>26</td>\n",
       "      <td>12</td>\n",
       "      <td>4</td>\n",
       "      <td>5</td>\n",
       "      <td>87.3</td>\n",
       "      <td>1</td>\n",
       "      <td>71.4</td>\n",
       "      <td>816</td>\n",
       "    </tr>\n",
       "    <tr>\n",
       "      <th>3</th>\n",
       "      <td>4</td>\n",
       "      <td>Mr. Robert Turner</td>\n",
       "      <td>Defensa</td>\n",
       "      <td>25</td>\n",
       "      <td>17</td>\n",
       "      <td>2</td>\n",
       "      <td>4</td>\n",
       "      <td>75.9</td>\n",
       "      <td>9</td>\n",
       "      <td>35.8</td>\n",
       "      <td>1496</td>\n",
       "    </tr>\n",
       "    <tr>\n",
       "      <th>4</th>\n",
       "      <td>5</td>\n",
       "      <td>Christopher Kennedy</td>\n",
       "      <td>Defensa</td>\n",
       "      <td>35</td>\n",
       "      <td>23</td>\n",
       "      <td>1</td>\n",
       "      <td>7</td>\n",
       "      <td>83.5</td>\n",
       "      <td>0</td>\n",
       "      <td>0.0</td>\n",
       "      <td>2047</td>\n",
       "    </tr>\n",
       "  </tbody>\n",
       "</table>\n",
       "</div>"
      ],
      "text/plain": [
       "   jugador_id               nombre       posición  edad  partidos_jugados  \\\n",
       "0           1         Tara Alvarez        Portero    18                25   \n",
       "1           2        Carol Mcclain  Mediocampista    32                12   \n",
       "2           3        Robert Martin        Defensa    26                12   \n",
       "3           4    Mr. Robert Turner        Defensa    25                17   \n",
       "4           5  Christopher Kennedy        Defensa    35                23   \n",
       "\n",
       "   goles  asistencias  pases_completados (%)  tiros_al_arco  \\\n",
       "0      2            5                   89.0              8   \n",
       "1      2            8                   77.5             49   \n",
       "2      4            5                   87.3              1   \n",
       "3      2            4                   75.9              9   \n",
       "4      1            7                   83.5              0   \n",
       "\n",
       "   precisión_tiros (%)  minutos_jugados  \n",
       "0                 78.2             2125  \n",
       "1                 68.5             1032  \n",
       "2                 71.4              816  \n",
       "3                 35.8             1496  \n",
       "4                  0.0             2047  "
      ]
     },
     "execution_count": 2,
     "metadata": {},
     "output_type": "execute_result"
    }
   ],
   "source": [
    "df_players = pd.read_csv('jugadores_cebollitas.csv')\n",
    "df_players.head()\n"
   ]
  },
  {
   "cell_type": "code",
   "execution_count": 3,
   "id": "a5306e1c",
   "metadata": {},
   "outputs": [],
   "source": [
    "X = df_players[['goles', 'asistencias', 'pases_completados (%)', 'tiros_al_arco']]"
   ]
  },
  {
   "cell_type": "code",
   "execution_count": 4,
   "id": "fd698ae7",
   "metadata": {},
   "outputs": [],
   "source": [
    "from sklearn.preprocessing import StandardScaler\n",
    "\n",
    "scaler = StandardScaler()\n",
    "X_scaled = scaler.fit_transform(X)"
   ]
  },
  {
   "cell_type": "code",
   "execution_count": 5,
   "id": "7a748ca5",
   "metadata": {},
   "outputs": [],
   "source": [
    "from sklearn.decomposition import PCA\n",
    "\n",
    "pca = PCA(n_components=2)\n",
    "components = pca.fit_transform(X_scaled)\n",
    "\n",
    "df_players['PC1'] = components[:, 0]\n",
    "df_players['PC2'] = components[:, 1]"
   ]
  },
  {
   "cell_type": "code",
   "execution_count": 7,
   "id": "e3cf45b3",
   "metadata": {},
   "outputs": [
    {
     "data": {
      "text/plain": [
       "<Axes: xlabel='PC1', ylabel='PC2'>"
      ]
     },
     "execution_count": 7,
     "metadata": {},
     "output_type": "execute_result"
    },
    {
     "data": {
      "image/png": "[encoded data removed]",
      "text/plain": [
       "<Figure size 640x480 with 1 Axes>"
      ]
     },
     "metadata": {},
     "output_type": "display_data"
    }
   ],
   "source": [
    "import seaborn as sns\n",
    "\n",
    "sns.scatterplot(data=df_players, x='PC1', y='PC2', hue='goles', palette='coolwarm', s=100)"
   ]
  },
  {
   "cell_type": "code",
   "execution_count": 8,
   "id": "c1df0ed9",
   "metadata": {},
   "outputs": [
    {
     "name": "stderr",
     "output_type": "stream",
     "text": [
      "c:\\Users\\jaayg\\anaconda3\\lib\\site-packages\\sklearn\\cluster\\_kmeans.py:1419: UserWarning: KMeans is known to have a memory leak on Windows with MKL, when there are less chunks than available threads. You can avoid it by setting the environment variable OMP_NUM_THREADS=1.\n",
      "  warnings.warn(\n"
     ]
    }
   ],
   "source": [
    "from sklearn.cluster import KMeans\n",
    "\n",
    "kmeans = KMeans(n_clusters=3, random_state=42)\n",
    "df_players['Cluster'] = kmeans.fit_predict(X_scaled)"
   ]
  },
  {
   "cell_type": "code",
   "execution_count": 9,
   "id": "04be5f3a",
   "metadata": {},
   "outputs": [
    {
     "data": {
      "text/plain": [
       "<Axes: xlabel='PC1', ylabel='PC2'>"
      ]
     },
     "execution_count": 9,
     "metadata": {},
     "output_type": "execute_result"
    },
    {
     "data": {
      "image/png": "[encoded data removed]",
      "text/plain": [
       "<Figure size 640x480 with 1 Axes>"
      ]
     },
     "metadata": {},
     "output_type": "display_data"
    }
   ],
   "source": [
    "sns.scatterplot(data=df_players, x='PC1', y='PC2', hue='Cluster', palette='Set1', s=100)"
   ]
  },
  {
   "cell_type": "code",
   "execution_count": 10,
   "id": "4a46c917",
   "metadata": {},
   "outputs": [
    {
     "name": "stdout",
     "output_type": "stream",
     "text": [
      "Explained variance by PC1: 0.39, PC2: 0.28\n",
      "Total explained variance: 0.67\n"
     ]
    }
   ],
   "source": [
    "varrience = pca.explained_variance_ratio_\n",
    "\n",
    "print(f\"Explained variance by PC1: {varrience[0]:.2f}, PC2: {varrience[1]:.2f}\")\n",
    "print(f\"Total explained variance: {varrience.sum():.2f}\")"
   ]
  },
  {
   "cell_type": "code",
   "execution_count": 12,
   "id": "59521dad",
   "metadata": {},
   "outputs": [
    {
     "data": {
      "application/vnd.jupyter.widget-view+json": {
       "model_id": "b5de47e94c1b4ba3a3d255cbc85647f5",
       "version_major": 2,
       "version_minor": 0
      },
      "text/plain": [
       "interactive(children=(Dropdown(description='ax_x', options=('PC1', 'PC2', 'goles', 'asistencias', 'pases_compl…"
      ]
     },
     "execution_count": 12,
     "metadata": {},
     "output_type": "execute_result"
    }
   ],
   "source": [
    "import ipywidgets as widgets\n",
    "from IPython.display import display\n",
    "import matplotlib.pyplot as plt\n",
    "\n",
    "def explore_components(ax_x, ax_y):\n",
    "    plt.figure(figsize=(10, 6))\n",
    "    sns.scatterplot(data=df_players, x=ax_x, y=ax_y, hue='Cluster', palette='Set2', s=100)\n",
    "    plt.title(f'Scatter plot of {ax_x} vs {ax_y}')\n",
    "    plt.xlabel(ax_x)\n",
    "    plt.ylabel(ax_y)\n",
    "    plt.legend(title='Cluster')\n",
    "    plt.show()\n",
    "\n",
    "widgets.interactive(\n",
    "    explore_components,\n",
    "    ax_x=['PC1','PC2','goles', 'asistencias', 'pases_completados (%)', 'tiros_al_arco'],\n",
    "    ax_y=['PC1','PC2', 'goles', 'asistencias', 'pases_completados (%)', 'tiros_al_arco']\n",
    ")"
   ]
  }
 ],
 "metadata": {
  "kernelspec": {
   "display_name": "base",
   "language": "python",
   "name": "python3"
  },
  "language_info": {
   "codemirror_mode": {
    "name": "ipython",
    "version": 3
   },
   "file_extension": ".py",
   "mimetype": "text/x-python",
   "name": "python",
   "nbconvert_exporter": "python",
   "pygments_lexer": "ipython3",
   "version": "3.10.18"
  }
 },
 "nbformat": 4,
 "nbformat_minor": 5
}
